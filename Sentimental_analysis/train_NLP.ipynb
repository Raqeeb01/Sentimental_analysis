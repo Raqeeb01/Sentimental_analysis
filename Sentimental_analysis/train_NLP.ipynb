{
 "cells": [
  {
   "cell_type": "code",
   "execution_count": 89,
   "id": "0985d3e2",
   "metadata": {},
   "outputs": [],
   "source": [
    "import nltk\n",
    "from nltk.corpus import stopwords\n",
    "import tensorflow as tf\n",
    "from tensorflow import keras\n",
    "from tensorflow.keras.preprocessing.sequence import pad_sequences\n",
    "from sklearn.model_selection import train_test_split\n",
    "from tensorflow.keras.models import Sequential\n",
    "from tensorflow.keras.layers import Dense, Dropout\n",
    "from tensorflow.keras.layers import Bidirectional, BatchNormalization\n",
    "import glob\n",
    "import tarfile\n",
    "import os\n",
    "from six.moves import urllib\n",
    "import re"
   ]
  },
  {
   "cell_type": "code",
   "execution_count": 90,
   "id": "c2bfffb1",
   "metadata": {},
   "outputs": [],
   "source": [
    "def fetch_movie_review_data():\n",
    "    # URL to download the file from\n",
    "    url = 'http://ai.stanford.edu/~amaas/data/sentiment/aclImdb_v1.tar.gz'\n",
    "    \n",
    "    # Destination directory to save the downloaded file and extract its contents\n",
    "    data_dir = './data/'\n",
    "    \n",
    "    # Create the 'data' directory if it does not exist\n",
    "    os.makedirs(data_dir, exist_ok=True)\n",
    "\n",
    "    # File path for saving the downloaded tar.gz file\n",
    "    file_path = os.path.join(data_dir, 'aclImdb_v1.tar.gz')\n",
    "\n",
    "    # Downloading the file using urllib\n",
    "    urllib.request.urlretrieve(url, file_path)\n",
    "\n",
    "    # Extracting the contents\n",
    "    with tarfile.open(file_path, 'r:gz') as tar:\n",
    "        tar.extractall(path=data_dir)\n",
    "\n",
    "    # Close the tarfile object\n",
    "    tar.close()\n",
    "\n",
    "    # Remove the downloaded tar.gz file\n",
    "    os.remove(file_path)\n",
    "\n"
   ]
  },
  {
   "cell_type": "code",
   "execution_count": 93,
   "id": "d47adab4",
   "metadata": {},
   "outputs": [],
   "source": [
    "fetch_movie_review_data()"
   ]
  },
  {
   "cell_type": "code",
   "execution_count": 94,
   "id": "b1edc651",
   "metadata": {},
   "outputs": [
    {
     "name": "stdout",
     "output_type": "stream",
     "text": [
      "['.DS_Store', 'aclImdb']\n"
     ]
    }
   ],
   "source": [
    "import os\n",
    "\n",
    "data_dir = './data/'\n",
    "\n",
    "# List all files and directories in the extracted directory\n",
    "contents = os.listdir(data_dir)\n",
    "print(contents)\n"
   ]
  },
  {
   "cell_type": "code",
   "execution_count": 95,
   "id": "2214e39d",
   "metadata": {},
   "outputs": [],
   "source": [
    "import os\n",
    "import numpy as np\n",
    "\n",
    "data_dir = './data/aclImdb/'\n",
    "names = ['neg', 'pos']\n",
    "\n",
    "def loading_texts(path, folders):\n",
    "    texts, labels = [], []\n",
    "    for idx, label in enumerate(folders):\n",
    "        folder_path = os.path.join(path, label)\n",
    "        for file_name in os.listdir(folder_path):\n",
    "            file_path = os.path.join(folder_path, file_name)\n",
    "            with open(file_path, 'r') as file:\n",
    "                texts.append(file.read())\n",
    "            labels.append(idx)\n",
    "\n",
    "    return texts, np.array(labels).astype(np.int64)\n",
    "\n",
    "x_train, y_train =loading_texts(os.path.join(data_dir, 'train'), names)\n",
    "x_test, y_test = loading_texts(os.path.join(data_dir, 'test'), names)\n"
   ]
  },
  {
   "cell_type": "code",
   "execution_count": 6,
   "id": "19226b30",
   "metadata": {},
   "outputs": [],
   "source": [
    "'''\n",
    "# More Potent way of getting the DATA\n",
    "\n",
    "from pathlib import Path\n",
    "import numpy as np\n",
    "\n",
    "data_dir = Path('./data2/aclImdb/')\n",
    "names = ['neg', 'pos']\n",
    "\n",
    "def load_texts_labels_from_folders(path, folders):\n",
    "    texts_labels = [(file.read_text(), idx) \n",
    "                    for idx, label in enumerate(folders) \n",
    "                    for file in (path / label).glob('*.*')]\n",
    "    texts, labels = zip(*texts_labels)\n",
    "    return list(texts), np.array(labels).astype(np.int64)\n",
    "\n",
    "x_train, y_train = load_texts_labels_from_folders(data_dir / 'train', names)\n",
    "x_test, y_test = load_texts_labels_from_folders(data_dir / 'test', names)\n",
    "\n",
    "'''\n"
   ]
  },
  {
   "cell_type": "code",
   "execution_count": 96,
   "id": "a0695003",
   "metadata": {},
   "outputs": [
    {
     "data": {
      "text/plain": [
       "'Well...tremors I, the original started off in 1990 and i found the movie quite enjoyable to watch. however, they proceeded to make tremors II and III. Trust me, those movies started going downhill right after they finished the first one, i mean, ass blasters??? Now, only God himself is capable of answering the question \"why in Gods name would they create another one of these dumpster dives of a movie?\" Tremors IV cannot be considered a bad movie, in fact it cannot be even considered an epitome of a bad movie, for it lives up to more than that. As i attempted to sit though it, i noticed that my eyes started to bleed, and i hoped profusely that the little girl from the ring would crawl through the TV and kill me. did they really think that dressing the people who had stared in the other movies up as though they we\\'re from the wild west would make the movie (with the exact same occurrences) any better? honestly, i would never suggest buying this movie, i mean, there are cheaper ways to find things that burn well.'"
      ]
     },
     "execution_count": 96,
     "metadata": {},
     "output_type": "execute_result"
    }
   ],
   "source": [
    "x_train[1]"
   ]
  },
  {
   "cell_type": "code",
   "execution_count": 97,
   "id": "2d8b2e50",
   "metadata": {},
   "outputs": [
    {
     "data": {
      "text/plain": [
       "array([0, 0, 0, ..., 1, 1, 1])"
      ]
     },
     "execution_count": 97,
     "metadata": {},
     "output_type": "execute_result"
    }
   ],
   "source": [
    "y_train"
   ]
  },
  {
   "cell_type": "code",
   "execution_count": 98,
   "id": "7796433a",
   "metadata": {},
   "outputs": [
    {
     "data": {
      "text/plain": [
       "'I have seen this movie and I did not care for this movie anyhow. I would not think about going to Paris because I do not like this country and its national capital. I do not like to learn french anyhow because I do not understand their language. Why would I go to France when I rather go to Germany or the United Kingdom? Germany and the United Kingdom are the nations I tolerate. Apparently the Olsen Twins do not understand the French language just like me. Therefore I will not bother the France trip no matter what. I might as well stick to the United Kingdom and meet single women and play video games if there is a video arcade. That is all.'"
      ]
     },
     "execution_count": 98,
     "metadata": {},
     "output_type": "execute_result"
    }
   ],
   "source": [
    "x_test[1]"
   ]
  },
  {
   "cell_type": "code",
   "execution_count": 55,
   "id": "b742714d",
   "metadata": {},
   "outputs": [],
   "source": [
    "import re\n",
    "\n",
    "# Preprocessing text\n",
    "\n",
    "REPLACE_REGEX = re.compile(r\"[.;:!\\'?,\\\"()\\[\\]]|(<br\\s*/><br\\s*/>)|(\\-)|(\\/)\")\n",
    "#REPLACE_REGEX = re.compile(r\"[;:!\\'?\\\"()\\[\\]]|(<br\\s*/><br\\s*/>)|(\\-)|(\\/)\")\n",
    "\n",
    "def preprocess_reviews(reviews):\n",
    "    reviews = [REPLACE_REGEX.sub(\" \", line.lower()) for line in reviews]\n",
    "    return reviews\n",
    "\n",
    "processed_train = preprocess_reviews(x_train)\n",
    "processed_test = preprocess_reviews(x_test)\n"
   ]
  },
  {
   "cell_type": "code",
   "execution_count": 65,
   "id": "89c4b049",
   "metadata": {},
   "outputs": [
    {
     "data": {
      "text/plain": [
       "'well   tremors i  the original started off in 1990 and i found the movie quite enjoyable to watch  however  they proceeded to make tremors ii and iii  trust me  those movies started going downhill right after they finished the first one  i mean  ass blasters    now  only god himself is capable of answering the question  why in gods name would they create another one of these dumpster dives of a movie   tremors iv cannot be considered a bad movie  in fact it cannot be even considered an epitome of a bad movie  for it lives up to more than that  as i attempted to sit though it  i noticed that my eyes started to bleed  and i hoped profusely that the little girl from the ring would crawl through the tv and kill me  did they really think that dressing the people who had stared in the other movies up as though they we re from the wild west would make the movie  with the exact same occurrences  any better  honestly  i would never suggest buying this movie  i mean  there are cheaper ways to find things that burn well '"
      ]
     },
     "execution_count": 65,
     "metadata": {},
     "output_type": "execute_result"
    }
   ],
   "source": [
    "processed_train[1]"
   ]
  },
  {
   "cell_type": "code",
   "execution_count": 66,
   "id": "2128757e",
   "metadata": {},
   "outputs": [
    {
     "name": "stderr",
     "output_type": "stream",
     "text": [
      "[nltk_data] Downloading package stopwords to\n",
      "[nltk_data]     /Users/abdulraqeeb/nltk_data...\n",
      "[nltk_data]   Package stopwords is already up-to-date!\n"
     ]
    }
   ],
   "source": [
    "nltk.download('stopwords')\n",
    "english_stop_words = set(stopwords.words('english'))\n",
    "\n",
    "\n",
    "def remove_stop_words(corpus):\n",
    "    removed_stop_words = [' '.join([word for word in review.split() if word not in english_stop_words])\n",
    "                         for review in corpus]\n",
    "    return removed_stop_words"
   ]
  },
  {
   "cell_type": "code",
   "execution_count": 67,
   "id": "6b916482",
   "metadata": {},
   "outputs": [],
   "source": [
    "no_stop_words_train = remove_stop_words(processed_train)"
   ]
  },
  {
   "cell_type": "code",
   "execution_count": 68,
   "id": "23543644",
   "metadata": {},
   "outputs": [
    {
     "data": {
      "text/plain": [
       "'well tremors original started 1990 found movie quite enjoyable watch however proceeded make tremors ii iii trust movies started going downhill right finished first one mean ass blasters god capable answering question gods name would create another one dumpster dives movie tremors iv cannot considered bad movie fact cannot even considered epitome bad movie lives attempted sit though noticed eyes started bleed hoped profusely little girl ring would crawl tv kill really think dressing people stared movies though wild west would make movie exact occurrences better honestly would never suggest buying movie mean cheaper ways find things burn well'"
      ]
     },
     "execution_count": 68,
     "metadata": {},
     "output_type": "execute_result"
    }
   ],
   "source": [
    "no_stop_words_train[1]"
   ]
  },
  {
   "cell_type": "code",
   "execution_count": 69,
   "id": "c6b33107",
   "metadata": {},
   "outputs": [],
   "source": [
    "import nltk\n",
    "from nltk.tokenize import word_tokenize\n",
    "from nltk.stem import WordNetLemmatizer\n",
    "from keras.preprocessing.text import Tokenizer\n",
    "from tensorflow.keras.preprocessing.sequence import pad_sequences\n"
   ]
  },
  {
   "cell_type": "code",
   "execution_count": 70,
   "id": "cfb3d877",
   "metadata": {
    "scrolled": false
   },
   "outputs": [
    {
     "name": "stderr",
     "output_type": "stream",
     "text": [
      "[nltk_data] Downloading package punkt to\n",
      "[nltk_data]     /Users/abdulraqeeb/nltk_data...\n",
      "[nltk_data]   Package punkt is already up-to-date!\n",
      "[nltk_data] Downloading package wordnet to\n",
      "[nltk_data]     /Users/abdulraqeeb/nltk_data...\n",
      "[nltk_data]   Package wordnet is already up-to-date!\n"
     ]
    }
   ],
   "source": [
    "import nltk\n",
    "from nltk.stem import WordNetLemmatizer\n",
    "nltk.download('punkt')\n",
    "nltk.download('wordnet')\n",
    "\n",
    "def lemmatized_operation(corpus):\n",
    "    lemmatizer = WordNetLemmatizer()\n",
    "    lemmatized_reviews = [' '.join(lemmatizer.lemmatize(word) for word in nltk.word_tokenize(review)) for review in corpus]\n",
    "    return lemmatized_reviews\n",
    "\n",
    "lemmatized_reviews = lemmatized_operation(no_stop_words_train)\n"
   ]
  },
  {
   "cell_type": "code",
   "execution_count": 71,
   "id": "49e2a6a9",
   "metadata": {},
   "outputs": [
    {
     "data": {
      "text/plain": [
       "'well tremor original started 1990 found movie quite enjoyable watch however proceeded make tremor ii iii trust movie started going downhill right finished first one mean as blaster god capable answering question god name would create another one dumpster dive movie tremor iv can not considered bad movie fact can not even considered epitome bad movie life attempted sit though noticed eye started bleed hoped profusely little girl ring would crawl tv kill really think dressing people stared movie though wild west would make movie exact occurrence better honestly would never suggest buying movie mean cheaper way find thing burn well'"
      ]
     },
     "execution_count": 71,
     "metadata": {},
     "output_type": "execute_result"
    }
   ],
   "source": [
    "lemmatized_reviews[1]"
   ]
  },
  {
   "cell_type": "code",
   "execution_count": 81,
   "id": "b37e6c9a",
   "metadata": {},
   "outputs": [
    {
     "name": "stdout",
     "output_type": "stream",
     "text": [
      "Epoch 1/10\n",
      "625/625 [==============================] - 53s 79ms/step - loss: 0.4347 - accuracy: 0.7860 - val_loss: 0.3315 - val_accuracy: 0.8636\n",
      "Epoch 2/10\n",
      "625/625 [==============================] - 41s 65ms/step - loss: 0.1911 - accuracy: 0.9269 - val_loss: 0.3547 - val_accuracy: 0.8506\n",
      "Epoch 3/10\n",
      "625/625 [==============================] - 41s 66ms/step - loss: 0.1059 - accuracy: 0.9636 - val_loss: 0.3604 - val_accuracy: 0.8530\n",
      "Epoch 4/10\n",
      "625/625 [==============================] - 513s 822ms/step - loss: 0.0730 - accuracy: 0.9735 - val_loss: 0.4837 - val_accuracy: 0.8566\n",
      "Epoch 5/10\n",
      "625/625 [==============================] - 40s 65ms/step - loss: 0.0494 - accuracy: 0.9829 - val_loss: 0.4785 - val_accuracy: 0.8640\n",
      "Epoch 6/10\n",
      "625/625 [==============================] - 41s 66ms/step - loss: 0.0344 - accuracy: 0.9886 - val_loss: 0.5990 - val_accuracy: 0.8548\n",
      "Epoch 7/10\n",
      "625/625 [==============================] - 41s 66ms/step - loss: 0.0287 - accuracy: 0.9898 - val_loss: 0.5704 - val_accuracy: 0.8646\n",
      "Epoch 8/10\n",
      "625/625 [==============================] - 41s 66ms/step - loss: 0.0283 - accuracy: 0.9908 - val_loss: 0.6129 - val_accuracy: 0.8526\n",
      "Epoch 9/10\n",
      "625/625 [==============================] - 42s 67ms/step - loss: 0.0266 - accuracy: 0.9916 - val_loss: 0.5607 - val_accuracy: 0.8600\n",
      "Epoch 10/10\n",
      "625/625 [==============================] - 44s 70ms/step - loss: 0.0221 - accuracy: 0.9927 - val_loss: 0.6534 - val_accuracy: 0.8640\n"
     ]
    }
   ],
   "source": [
    "import numpy as np\n",
    "import tensorflow as tf\n",
    "from sklearn.model_selection import train_test_split\n",
    "from tensorflow.keras.layers import Embedding, Dropout, LSTM, Dense\n",
    "from tensorflow.keras.models import Sequential\n",
    "from tensorflow.keras.preprocessing.sequence import pad_sequences\n",
    "\n",
    "# Set a random seed for reproducibility\n",
    "np.random.seed(42)\n",
    "tf.random.set_seed(42)\n",
    "\n",
    "# Rest of the code remains the same as before\n",
    "\n",
    "# Tokenization and Padding\n",
    "tokenizer = keras.preprocessing.text.Tokenizer()\n",
    "tokenizer.fit_on_texts(lemmatized_reviews)\n",
    "\n",
    "vocab_size = len(tokenizer.word_index) + 1\n",
    "sequences_train = tokenizer.texts_to_sequences(lemmatized_reviews)\n",
    "sequences_test = tokenizer.texts_to_sequences(preprocess_reviews(x_test))\n",
    "\n",
    "# Set a smaller max sequence length to optimize training\n",
    "max_sequence_length = 100\n",
    "\n",
    "padded_train = pad_sequences(sequences_train, maxlen=max_sequence_length, padding='post')\n",
    "padded_test = pad_sequences(sequences_test, maxlen=max_sequence_length, padding='post')\n",
    "\n",
    "# Building the Optimized Neural Network\n",
    "model = Sequential()\n",
    "model.add(Embedding(vocab_size, 16))  # Increasing embedding dimension for more expressiveness\n",
    "model.add(Dropout(0.3))  # Increasing dropout rate for more regularization\n",
    "model.add(Bidirectional(LSTM(32)))  # Using bidirectional LSTM for better capture of dependencies\n",
    "model.add(Dropout(0.3))  # Increasing dropout rate for more regularization\n",
    "model.add(Dense(64, activation='relu'))\n",
    "model.add(BatchNormalization())  # Adding batch normalization for improved stability\n",
    "model.add(Dropout(0.3))  # Increasing dropout rate for more regularization\n",
    "model.add(Dense(1, activation='sigmoid'))\n",
    "# Compile the model\n",
    "model.compile(optimizer='adam', loss='binary_crossentropy', metrics=['accuracy'])\n",
    "\n",
    "# Splitting the data into training and validation sets\n",
    "x_train_partial, x_val, y_train_partial, y_val = train_test_split(padded_train, y_train, test_size=0.2, random_state=42)\n",
    "\n",
    "# Training the Model without early stopping and with validation data for 10 epochs\n",
    "history = model.fit(x_train_partial, y_train_partial, epochs=10, batch_size=32, validation_data=(x_val, y_val))\n",
    "\n",
    "# Evaluation on the test set\n",
    "#loss, accuracy = model.evaluate(padded_test, y_test)\n",
    "#print(f'Test loss: {loss:.4f}, Test accuracy: {accuracy * 100:.2f}%')\n"
   ]
  },
  {
   "cell_type": "code",
   "execution_count": 82,
   "id": "f2cb0e5a",
   "metadata": {
    "scrolled": false
   },
   "outputs": [
    {
     "data": {
      "image/png": "[encoded data removed]",
      "text/plain": [
       "<Figure size 640x480 with 1 Axes>"
      ]
     },
     "metadata": {},
     "output_type": "display_data"
    }
   ],
   "source": [
    "import matplotlib.pyplot as plt\n",
    "epoch_nums = range(1, len(history.history['loss']) + 1)\n",
    "plt.plot(epoch_nums, history.history['loss'], label='Training Loss')\n",
    "plt.plot(epoch_nums, history.history['val_loss'], label='Validation Loss')\n",
    "plt.xlabel('Epoch')\n",
    "plt.ylabel('Loss')\n",
    "plt.legend()\n",
    "plt.show()"
   ]
  },
  {
   "cell_type": "code",
   "execution_count": 84,
   "id": "a99a7ffc",
   "metadata": {},
   "outputs": [
    {
     "data": {
      "image/png": "[encoded data removed]",
      "text/plain": [
       "<Figure size 640x480 with 1 Axes>"
      ]
     },
     "metadata": {},
     "output_type": "display_data"
    }
   ],
   "source": [
    "import matplotlib.pyplot as plt\n",
    "epoch_nums = range(1, len(history.history['loss']) + 1)\n",
    "plt.plot(epoch_nums, history.history['accuracy'], label='Training acc')\n",
    "plt.plot(epoch_nums, history.history['val_accuracy'], label='Validation acc')\n",
    "plt.xlabel('Epoch')\n",
    "plt.ylabel('accuracy')\n",
    "plt.legend()\n",
    "plt.show()"
   ]
  },
  {
   "cell_type": "code",
   "execution_count": 85,
   "id": "61bd4fe4",
   "metadata": {},
   "outputs": [
    {
     "name": "stdout",
     "output_type": "stream",
     "text": [
      "Model saved successfully.\n"
     ]
    }
   ],
   "source": [
    "if not os.path.exists('models'):\n",
    "    os.makedirs('models')\n",
    "\n",
    "# Save the trained model inside the 'models' directory\n",
    "model.save('models/20988627_21051268_21049384_NLP.h5')\n",
    "\n",
    "# Printing a message to indicate that the model is saved\n",
    "print(\"Model saved successfully.\")"
   ]
  },
  {
   "cell_type": "code",
   "execution_count": 88,
   "id": "609d0018",
   "metadata": {},
   "outputs": [
    {
     "name": "stdout",
     "output_type": "stream",
     "text": [
      "Model: \"sequential_14\"\n",
      "_________________________________________________________________\n",
      " Layer (type)                Output Shape              Param #   \n",
      "=================================================================\n",
      " embedding_7 (Embedding)     (None, None, 16)          1081456   \n",
      "                                                                 \n",
      " dropout_31 (Dropout)        (None, None, 16)          0         \n",
      "                                                                 \n",
      " bidirectional (Bidirectiona  (None, 64)               12544     \n",
      " l)                                                              \n",
      "                                                                 \n",
      " dropout_32 (Dropout)        (None, 64)                0         \n",
      "                                                                 \n",
      " dense_31 (Dense)            (None, 64)                4160      \n",
      "                                                                 \n",
      " batch_normalization (BatchN  (None, 64)               256       \n",
      " ormalization)                                                   \n",
      "                                                                 \n",
      " dropout_33 (Dropout)        (None, 64)                0         \n",
      "                                                                 \n",
      " dense_32 (Dense)            (None, 1)                 65        \n",
      "                                                                 \n",
      "=================================================================\n",
      "Total params: 1,098,481\n",
      "Trainable params: 1,098,353\n",
      "Non-trainable params: 128\n",
      "_________________________________________________________________\n"
     ]
    }
   ],
   "source": [
    "model.summary()"
   ]
  },
  {
   "cell_type": "code",
   "execution_count": null,
   "id": "bfbb7a07",
   "metadata": {},
   "outputs": [],
   "source": []
  },
  {
   "cell_type": "code",
   "execution_count": null,
   "id": "7803124b",
   "metadata": {},
   "outputs": [],
   "source": []
  },
  {
   "cell_type": "code",
   "execution_count": null,
   "id": "1cf6d127",
   "metadata": {},
   "outputs": [],
   "source": []
  },
  {
   "cell_type": "code",
   "execution_count": null,
   "id": "3de8160f",
   "metadata": {},
   "outputs": [],
   "source": []
  },
  {
   "cell_type": "code",
   "execution_count": null,
   "id": "71307b13",
   "metadata": {},
   "outputs": [],
   "source": []
  }
 ],
 "metadata": {
  "kernelspec": {
   "display_name": "Python 3 (ipykernel)",
   "language": "python",
   "name": "python3"
  },
  "language_info": {
   "codemirror_mode": {
    "name": "ipython",
    "version": 3
   },
   "file_extension": ".py",
   "mimetype": "text/x-python",
   "name": "python",
   "nbconvert_exporter": "python",
   "pygments_lexer": "ipython3",
   "version": "3.8.16"
  }
 },
 "nbformat": 4,
 "nbformat_minor": 5
}
