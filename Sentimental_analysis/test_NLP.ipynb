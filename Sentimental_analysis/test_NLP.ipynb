{
 "cells": [
  {
   "cell_type": "code",
   "execution_count": 5,
   "id": "6330dbf7",
   "metadata": {},
   "outputs": [],
   "source": [
    "import nltk\n",
    "from nltk.corpus import stopwords\n",
    "import tensorflow as tf\n",
    "from tensorflow import keras\n",
    "from tensorflow.keras.preprocessing.sequence import pad_sequences\n",
    "from sklearn.model_selection import train_test_split\n",
    "from tensorflow.keras.models import Sequential\n",
    "from tensorflow.keras.layers import Dense, Dropout\n",
    "from tensorflow.keras.layers import Bidirectional, BatchNormalization\n",
    "import tarfile\n",
    "import os\n",
    "from six.moves import urllib\n",
    "import re\n",
    "import nltk\n",
    "from nltk.tokenize import word_tokenize\n",
    "from nltk.stem import WordNetLemmatizer\n",
    "from keras.preprocessing.text import Tokenizer\n",
    "from tensorflow.keras.preprocessing.sequence import pad_sequences"
   ]
  },
  {
   "cell_type": "code",
   "execution_count": 2,
   "id": "24ddd4bf",
   "metadata": {},
   "outputs": [],
   "source": [
    "import os\n",
    "import numpy as np\n",
    "\n",
    "data_dir = './data/aclImdb/'\n",
    "names = ['neg', 'pos']\n",
    "\n",
    "def loading_text(path, folders):\n",
    "    texts, labels = [], []\n",
    "    for idx, label in enumerate(folders):\n",
    "        folder_path = os.path.join(path, label)\n",
    "        for file_name in os.listdir(folder_path):\n",
    "            file_path = os.path.join(folder_path, file_name)\n",
    "            with open(file_path, 'r') as file:\n",
    "                texts.append(file.read())\n",
    "            labels.append(idx)\n",
    "\n",
    "    return texts, np.array(labels).astype(np.int64)\n",
    "\n",
    "x_train, y_train = loading_text(os.path.join(data_dir, 'train'), names)\n",
    "x_test, y_test = loading_text(os.path.join(data_dir, 'test'), names)\n",
    "\n"
   ]
  },
  {
   "cell_type": "code",
   "execution_count": 147,
   "id": "a6ab073d",
   "metadata": {},
   "outputs": [],
   "source": [
    "REPLACE_REGEX = re.compile(r\"[.;:!\\'?,\\\"()\\[\\]]|(<br\\s*/><br\\s*/>)|(\\-)|(\\/)\")\n",
    "#REPLACE_REGEX = re.compile(r\"[;:!\\'?\\\"()\\[\\]]|(<br\\s*/><br\\s*/>)|(\\-)|(\\/)\")\n",
    "\n",
    "def preprocessing_text(reviews):\n",
    "    reviews = [REPLACE_REGEX.sub(\" \", line.lower()) for line in reviews]\n",
    "    return reviews\n",
    "\n",
    "#processed_train =preprocessing_text(x_train)\n",
    "processed_test = preprocessing_text(x_test)\n",
    "\n"
   ]
  },
  {
   "cell_type": "code",
   "execution_count": 148,
   "id": "0e7bb993",
   "metadata": {},
   "outputs": [
    {
     "name": "stderr",
     "output_type": "stream",
     "text": [
      "[nltk_data] Downloading package stopwords to\n",
      "[nltk_data]     /Users/abdulraqeeb/nltk_data...\n",
      "[nltk_data]   Package stopwords is already up-to-date!\n"
     ]
    }
   ],
   "source": [
    "nltk.download('stopwords')\n",
    "english_stop_words = set(stopwords.words('english'))\n",
    "\n",
    "\n",
    "def remove_stop_words(corpus):\n",
    "    removed_stop_words = [' '.join([word for word in review.split() if word not in english_stop_words])\n",
    "                         for review in corpus]\n",
    "    return removed_stop_words\n",
    "\n",
    "no_stop_words_test = remove_stop_words(processed_test)"
   ]
  },
  {
   "cell_type": "code",
   "execution_count": 149,
   "id": "d2aff884",
   "metadata": {},
   "outputs": [
    {
     "name": "stderr",
     "output_type": "stream",
     "text": [
      "[nltk_data] Downloading package punkt to\n",
      "[nltk_data]     /Users/abdulraqeeb/nltk_data...\n",
      "[nltk_data]   Package punkt is already up-to-date!\n",
      "[nltk_data] Downloading package wordnet to\n",
      "[nltk_data]     /Users/abdulraqeeb/nltk_data...\n",
      "[nltk_data]   Package wordnet is already up-to-date!\n"
     ]
    }
   ],
   "source": [
    "import nltk\n",
    "from nltk.stem import WordNetLemmatizer\n",
    "nltk.download('punkt')\n",
    "nltk.download('wordnet')\n",
    "\n",
    "def lemmatized_operation(corpus):\n",
    "    lemmatizer = WordNetLemmatizer()\n",
    "    lemmatized_reviews = [' '.join(lemmatizer.lemmatize(word) for word in nltk.word_tokenize(review)) for review in corpus]\n",
    "    return lemmatized_reviews\n",
    "\n",
    "lemmatized_reviews = lemmatized_operation(no_stop_words_test)"
   ]
  },
  {
   "cell_type": "code",
   "execution_count": 6,
   "id": "973b27b3",
   "metadata": {},
   "outputs": [
    {
     "name": "stdout",
     "output_type": "stream",
     "text": [
      "Metal device set to: Apple M1\n"
     ]
    }
   ],
   "source": [
    "from tensorflow.keras.models import load_model\n",
    "\n",
    "# Load the saved model\n",
    "loaded_model = load_model('models/20988627_21051268_21049384_NLP.h5')"
   ]
  },
  {
   "cell_type": "code",
   "execution_count": 8,
   "id": "7b0facf9",
   "metadata": {},
   "outputs": [],
   "source": [
    "import pickle\n",
    "import os\n",
    "\n",
    "file_path = os.path.join('data', 'padded_test.pkl')\n",
    "with open(file_path, 'rb') as file:\n",
    "    padded_test_run = pickle.load(file)\n",
    "\n",
    "\n"
   ]
  },
  {
   "cell_type": "code",
   "execution_count": 161,
   "id": "a30bfa6d",
   "metadata": {},
   "outputs": [],
   "source": [
    "import numpy as np\n",
    "import tensorflow as tf\n",
    "from sklearn.model_selection import train_test_split\n",
    "from tensorflow.keras.layers import Embedding, Dropout, LSTM, Dense\n",
    "from tensorflow.keras.models import Sequential\n",
    "from tensorflow.keras.preprocessing.sequence import pad_sequences\n",
    "\n",
    "# Setting a random seed for reproducibility\n",
    "#np.random.seed(42)\n",
    "#tf.random.set_seed(42)\n",
    "\n",
    "\n",
    "# Tokenization and Padding\n",
    "tokenizer = keras.preprocessing.text.Tokenizer()\n",
    "tokenizer.fit_on_texts(processed_test)\n",
    "\n",
    "vocab_size = len(tokenizer.word_index) + 1\n",
    "#sequences_train = tokenizer.texts_to_sequences(lemmatized_reviews)\n",
    "sequences_test = tokenizer.texts_to_sequences(processed_test)\n",
    "\n",
    "\n",
    "max_sequence_length = 100\n",
    "\n",
    "#padded_train = pad_sequences(sequences_train, maxlen=max_sequence_length, padding='post')\n",
    "padded_test = pad_sequences(sequences_test, maxlen=max_sequence_length, padding='post')"
   ]
  },
  {
   "cell_type": "code",
   "execution_count": 190,
   "id": "5c6ece9b",
   "metadata": {},
   "outputs": [],
   "source": [
    "import pickle\n",
    "import os\n",
    "\n",
    "# Load the padded_test list from the file in the 'data' directory using pickle\n",
    "padded_test_file_path = os.path.join('data', 'padded_test.pkl')\n",
    "with open(padded_test_file_path, 'rb') as file:\n",
    "    padded_test_check = pickle.load(file)\n",
    "\n",
    "# Load the y_test list from the file in the 'data' directory using pickle\n",
    "y_test_file_path = os.path.join('data', 'y_test.pkl')\n",
    "with open(y_test_file_path, 'rb') as file:\n",
    "    y_test_check = pickle.load(file)\n",
    "\n",
    "\n",
    "\n"
   ]
  },
  {
   "cell_type": "code",
   "execution_count": 9,
   "id": "731bb971",
   "metadata": {},
   "outputs": [
    {
     "name": "stderr",
     "output_type": "stream",
     "text": [
      "2023-07-28 14:11:13.701574: W tensorflow/tsl/platform/profile_utils/cpu_utils.cc:128] Failed to get CPU frequency: 0 Hz\n"
     ]
    },
    {
     "name": "stdout",
     "output_type": "stream",
     "text": [
      "782/782 [==============================] - 4s 4ms/step - loss: 0.4627 - accuracy: 0.8661\n",
      "Test loss: 0.4627, Test accuracy: 86.61%\n"
     ]
    }
   ],
   "source": [
    "#y_new_np = np.array(y_new)\n",
    "loss, accuracy = loaded_model.evaluate(padded_test_run, y_test)\n",
    "\n",
    "# Print the test accuracy\n",
    "print(f'Test loss: {loss:.4f}, Test accuracy: {accuracy * 100:.2f}%')"
   ]
  },
  {
   "cell_type": "code",
   "execution_count": null,
   "id": "35ec6efd",
   "metadata": {},
   "outputs": [],
   "source": []
  }
 ],
 "metadata": {
  "kernelspec": {
   "display_name": "Python 3 (ipykernel)",
   "language": "python",
   "name": "python3"
  },
  "language_info": {
   "codemirror_mode": {
    "name": "ipython",
    "version": 3
   },
   "file_extension": ".py",
   "mimetype": "text/x-python",
   "name": "python",
   "nbconvert_exporter": "python",
   "pygments_lexer": "ipython3",
   "version": "3.8.16"
  }
 },
 "nbformat": 4,
 "nbformat_minor": 5
}
